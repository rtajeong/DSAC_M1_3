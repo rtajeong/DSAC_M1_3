{
 "cells": [
  {
   "cell_type": "markdown",
   "metadata": {
    "colab_type": "text",
    "id": "H_LIFRXVImhj"
   },
   "source": [
    "# 슈퍼마켓 매출을 예측하는 선형모델 비교\n",
    "## 데이터 받기\n",
    "- 아래 사이트에서 로그인하고 register를 선택하면 데이터 다운로드 가능\n",
    "- 데이터는 인도의 슈퍼마켓의 매출 기록 샘플이며 훈련데이터 8523개와 테스트 데이터 5681개를 제공함\n",
    "- https://datahack.analyticsvidhya.com/contest/practice-problem-big-mart-sales-iii/\n",
    "- 훈련 데이터 사본: https://bit.ly/2HsDP2p\n",
    "- 테스트 데이터 사본: https://bit.ly/2WgqtdO"
   ]
  },
  {
   "cell_type": "code",
   "execution_count": 1,
   "metadata": {
    "colab": {},
    "colab_type": "code",
    "id": "SA31FUmpImhk"
   },
   "outputs": [],
   "source": [
    "import numpy as np\n",
    "import pandas as pd\n",
    "from pandas import Series, DataFrame\n",
    "from sklearn.model_selection import train_test_split\n",
    "import matplotlib.pyplot as plt"
   ]
  },
  {
   "cell_type": "code",
   "execution_count": 2,
   "metadata": {
    "colab": {
     "base_uri": "https://localhost:8080/",
     "height": 225
    },
    "colab_type": "code",
    "executionInfo": {
     "elapsed": 5652,
     "status": "ok",
     "timestamp": 1559897843907,
     "user": {
      "displayName": "김화종",
      "photoUrl": "https://lh4.googleusercontent.com/-sR-MVK_KsAg/AAAAAAAAAAI/AAAAAAAALbE/3e3Eq9nrGuw/s64/photo.jpg",
      "userId": "17353049580175403985"
     },
     "user_tz": -540
    },
    "id": "INE7D12fJAtA",
    "outputId": "3ef30eb1-d96f-49fc-958a-fff074a85d03"
   },
   "outputs": [
    {
     "name": "stderr",
     "output_type": "stream",
     "text": [
      "  % Total    % Received % Xferd  Average Speed   Time    Time     Time  Current\n",
      "                                 Dload  Upload   Total   Spent    Left  Speed\n",
      "\n",
      "  0     0    0     0    0     0      0      0 --:--:-- --:--:-- --:--:--     0\n",
      "100   146  100   146    0     0    408      0 --:--:-- --:--:-- --:--:--   410\n",
      "\n",
      "  0     0    0     0    0     0      0      0 --:--:-- --:--:-- --:--:--     0\n",
      "\n",
      "  0     0    0     0    0     0      0      0 --:--:--  0:00:01 --:--:--     0\n",
      "  0     0    0     0    0     0      0      0 --:--:--  0:00:01 --:--:--     0\n",
      "\n",
      "100  849k  100  849k    0     0   489k      0  0:00:01  0:00:01 --:--:--  489k\n",
      "  % Total    % Received % Xferd  Average Speed   Time    Time     Time  Current\n",
      "                                 Dload  Upload   Total   Spent    Left  Speed\n",
      "\n",
      "  0     0    0     0    0     0      0      0 --:--:-- --:--:-- --:--:--     0\n",
      "  0     0    0     0    0     0      0      0 --:--:-- --:--:-- --:--:--     0\n",
      "100   145  100   145    0     0    391      0 --:--:-- --:--:-- --:--:--   391\n",
      "\n",
      "  0     0    0     0    0     0      0      0 --:--:-- --:--:-- --:--:--     0\n",
      "\n",
      "  0     0    0     0    0     0      0      0 --:--:--  0:00:01 --:--:--     0\n",
      "\n",
      "  0     0    0     0    0     0      0      0 --:--:--  0:00:01 --:--:--     0\n",
      "100  515k  100  515k    0     0   308k      0  0:00:01  0:00:01 --:--:-- 1045k\n"
     ]
    }
   ],
   "source": [
    "!curl -L https://bit.ly/2HsDP2p -o Train_UWu5bXk.txt\n",
    "!curl -L https://bit.ly/2WgqtdO -o Test_u94Q5KV.txt"
   ]
  },
  {
   "cell_type": "code",
   "execution_count": 3,
   "metadata": {
    "colab": {},
    "colab_type": "code",
    "id": "zZQpjEeWImho"
   },
   "outputs": [],
   "source": [
    "# 슈퍼마켓 매출 데이터 읽기, 먼저 위의 사이트에 가서 등록을 하고 다운로드 받아야 함\n",
    "train = pd.read_csv('Train_UWu5bXk.txt')\n",
    "test = pd.read_csv('Test_u94Q5KV.txt')"
   ]
  },
  {
   "cell_type": "code",
   "execution_count": 4,
   "metadata": {
    "colab": {
     "base_uri": "https://localhost:8080/",
     "height": 35
    },
    "colab_type": "code",
    "executionInfo": {
     "elapsed": 797,
     "status": "ok",
     "timestamp": 1559897854596,
     "user": {
      "displayName": "김화종",
      "photoUrl": "https://lh4.googleusercontent.com/-sR-MVK_KsAg/AAAAAAAAAAI/AAAAAAAALbE/3e3Eq9nrGuw/s64/photo.jpg",
      "userId": "17353049580175403985"
     },
     "user_tz": -540
    },
    "id": "PrRR8fZvImhq",
    "outputId": "5f4b6f5c-a184-4c09-90f8-f3f7253118d8"
   },
   "outputs": [
    {
     "data": {
      "text/plain": [
       "((8523, 12), (5681, 11))"
      ]
     },
     "execution_count": 4,
     "metadata": {},
     "output_type": "execute_result"
    }
   ],
   "source": [
    "train.shape, test.shape"
   ]
  },
  {
   "cell_type": "code",
   "execution_count": 6,
   "metadata": {
    "colab": {
     "base_uri": "https://localhost:8080/",
     "height": 443
    },
    "colab_type": "code",
    "executionInfo": {
     "elapsed": 873,
     "status": "ok",
     "timestamp": 1559897856880,
     "user": {
      "displayName": "김화종",
      "photoUrl": "https://lh4.googleusercontent.com/-sR-MVK_KsAg/AAAAAAAAAAI/AAAAAAAALbE/3e3Eq9nrGuw/s64/photo.jpg",
      "userId": "17353049580175403985"
     },
     "user_tz": -540
    },
    "id": "bOCkBj_XImhw",
    "outputId": "64d94a4b-400d-40b4-ff22-041884a2cdf7"
   },
   "outputs": [
    {
     "data": {
      "text/html": [
       "<div>\n",
       "<style scoped>\n",
       "    .dataframe tbody tr th:only-of-type {\n",
       "        vertical-align: middle;\n",
       "    }\n",
       "\n",
       "    .dataframe tbody tr th {\n",
       "        vertical-align: top;\n",
       "    }\n",
       "\n",
       "    .dataframe thead th {\n",
       "        text-align: right;\n",
       "    }\n",
       "</style>\n",
       "<table border=\"1\" class=\"dataframe\">\n",
       "  <thead>\n",
       "    <tr style=\"text-align: right;\">\n",
       "      <th></th>\n",
       "      <th>0</th>\n",
       "      <th>1</th>\n",
       "      <th>2</th>\n",
       "      <th>3</th>\n",
       "      <th>4</th>\n",
       "    </tr>\n",
       "  </thead>\n",
       "  <tbody>\n",
       "    <tr>\n",
       "      <th>Item_Identifier</th>\n",
       "      <td>FDA15</td>\n",
       "      <td>DRC01</td>\n",
       "      <td>FDN15</td>\n",
       "      <td>FDX07</td>\n",
       "      <td>NCD19</td>\n",
       "    </tr>\n",
       "    <tr>\n",
       "      <th>Item_Weight</th>\n",
       "      <td>9.3</td>\n",
       "      <td>5.92</td>\n",
       "      <td>17.5</td>\n",
       "      <td>19.2</td>\n",
       "      <td>8.93</td>\n",
       "    </tr>\n",
       "    <tr>\n",
       "      <th>Item_Fat_Content</th>\n",
       "      <td>Low Fat</td>\n",
       "      <td>Regular</td>\n",
       "      <td>Low Fat</td>\n",
       "      <td>Regular</td>\n",
       "      <td>Low Fat</td>\n",
       "    </tr>\n",
       "    <tr>\n",
       "      <th>Item_Visibility</th>\n",
       "      <td>0.0160473</td>\n",
       "      <td>0.0192782</td>\n",
       "      <td>0.0167601</td>\n",
       "      <td>0</td>\n",
       "      <td>0</td>\n",
       "    </tr>\n",
       "    <tr>\n",
       "      <th>Item_Type</th>\n",
       "      <td>Dairy</td>\n",
       "      <td>Soft Drinks</td>\n",
       "      <td>Meat</td>\n",
       "      <td>Fruits and Vegetables</td>\n",
       "      <td>Household</td>\n",
       "    </tr>\n",
       "    <tr>\n",
       "      <th>Item_MRP</th>\n",
       "      <td>249.809</td>\n",
       "      <td>48.2692</td>\n",
       "      <td>141.618</td>\n",
       "      <td>182.095</td>\n",
       "      <td>53.8614</td>\n",
       "    </tr>\n",
       "    <tr>\n",
       "      <th>Outlet_Identifier</th>\n",
       "      <td>OUT049</td>\n",
       "      <td>OUT018</td>\n",
       "      <td>OUT049</td>\n",
       "      <td>OUT010</td>\n",
       "      <td>OUT013</td>\n",
       "    </tr>\n",
       "    <tr>\n",
       "      <th>Outlet_Establishment_Year</th>\n",
       "      <td>1999</td>\n",
       "      <td>2009</td>\n",
       "      <td>1999</td>\n",
       "      <td>1998</td>\n",
       "      <td>1987</td>\n",
       "    </tr>\n",
       "    <tr>\n",
       "      <th>Outlet_Size</th>\n",
       "      <td>Medium</td>\n",
       "      <td>Medium</td>\n",
       "      <td>Medium</td>\n",
       "      <td>NaN</td>\n",
       "      <td>High</td>\n",
       "    </tr>\n",
       "    <tr>\n",
       "      <th>Outlet_Location_Type</th>\n",
       "      <td>Tier 1</td>\n",
       "      <td>Tier 3</td>\n",
       "      <td>Tier 1</td>\n",
       "      <td>Tier 3</td>\n",
       "      <td>Tier 3</td>\n",
       "    </tr>\n",
       "    <tr>\n",
       "      <th>Outlet_Type</th>\n",
       "      <td>Supermarket Type1</td>\n",
       "      <td>Supermarket Type2</td>\n",
       "      <td>Supermarket Type1</td>\n",
       "      <td>Grocery Store</td>\n",
       "      <td>Supermarket Type1</td>\n",
       "    </tr>\n",
       "    <tr>\n",
       "      <th>Item_Outlet_Sales</th>\n",
       "      <td>3735.14</td>\n",
       "      <td>443.423</td>\n",
       "      <td>2097.27</td>\n",
       "      <td>732.38</td>\n",
       "      <td>994.705</td>\n",
       "    </tr>\n",
       "  </tbody>\n",
       "</table>\n",
       "</div>"
      ],
      "text/plain": [
       "                                           0                  1  \\\n",
       "Item_Identifier                        FDA15              DRC01   \n",
       "Item_Weight                              9.3               5.92   \n",
       "Item_Fat_Content                     Low Fat            Regular   \n",
       "Item_Visibility                    0.0160473          0.0192782   \n",
       "Item_Type                              Dairy        Soft Drinks   \n",
       "Item_MRP                             249.809            48.2692   \n",
       "Outlet_Identifier                     OUT049             OUT018   \n",
       "Outlet_Establishment_Year               1999               2009   \n",
       "Outlet_Size                           Medium             Medium   \n",
       "Outlet_Location_Type                  Tier 1             Tier 3   \n",
       "Outlet_Type                Supermarket Type1  Supermarket Type2   \n",
       "Item_Outlet_Sales                    3735.14            443.423   \n",
       "\n",
       "                                           2                      3  \\\n",
       "Item_Identifier                        FDN15                  FDX07   \n",
       "Item_Weight                             17.5                   19.2   \n",
       "Item_Fat_Content                     Low Fat                Regular   \n",
       "Item_Visibility                    0.0167601                      0   \n",
       "Item_Type                               Meat  Fruits and Vegetables   \n",
       "Item_MRP                             141.618                182.095   \n",
       "Outlet_Identifier                     OUT049                 OUT010   \n",
       "Outlet_Establishment_Year               1999                   1998   \n",
       "Outlet_Size                           Medium                    NaN   \n",
       "Outlet_Location_Type                  Tier 1                 Tier 3   \n",
       "Outlet_Type                Supermarket Type1          Grocery Store   \n",
       "Item_Outlet_Sales                    2097.27                 732.38   \n",
       "\n",
       "                                           4  \n",
       "Item_Identifier                        NCD19  \n",
       "Item_Weight                             8.93  \n",
       "Item_Fat_Content                     Low Fat  \n",
       "Item_Visibility                            0  \n",
       "Item_Type                          Household  \n",
       "Item_MRP                             53.8614  \n",
       "Outlet_Identifier                     OUT013  \n",
       "Outlet_Establishment_Year               1987  \n",
       "Outlet_Size                             High  \n",
       "Outlet_Location_Type                  Tier 3  \n",
       "Outlet_Type                Supermarket Type1  \n",
       "Item_Outlet_Sales                    994.705  "
      ]
     },
     "execution_count": 6,
     "metadata": {},
     "output_type": "execute_result"
    }
   ],
   "source": [
    "train.head().T"
   ]
  },
  {
   "cell_type": "code",
   "execution_count": 7,
   "metadata": {
    "colab": {},
    "colab_type": "code",
    "id": "K1dCPCFIImhz",
    "outputId": "4c9ee752-9d2c-4c93-a7df-990eb00f2de5"
   },
   "outputs": [
    {
     "name": "stdout",
     "output_type": "stream",
     "text": [
      "<class 'pandas.core.frame.DataFrame'>\n",
      "RangeIndex: 8523 entries, 0 to 8522\n",
      "Data columns (total 12 columns):\n",
      " #   Column                     Non-Null Count  Dtype  \n",
      "---  ------                     --------------  -----  \n",
      " 0   Item_Identifier            8523 non-null   object \n",
      " 1   Item_Weight                7060 non-null   float64\n",
      " 2   Item_Fat_Content           8523 non-null   object \n",
      " 3   Item_Visibility            8523 non-null   float64\n",
      " 4   Item_Type                  8523 non-null   object \n",
      " 5   Item_MRP                   8523 non-null   float64\n",
      " 6   Outlet_Identifier          8523 non-null   object \n",
      " 7   Outlet_Establishment_Year  8523 non-null   int64  \n",
      " 8   Outlet_Size                6113 non-null   object \n",
      " 9   Outlet_Location_Type       8523 non-null   object \n",
      " 10  Outlet_Type                8523 non-null   object \n",
      " 11  Item_Outlet_Sales          8523 non-null   float64\n",
      "dtypes: float64(4), int64(1), object(7)\n",
      "memory usage: 799.2+ KB\n"
     ]
    }
   ],
   "source": [
    "train.info()"
   ]
  },
  {
   "cell_type": "markdown",
   "metadata": {},
   "source": [
    "## 두 개의 입력 특성 사용"
   ]
  },
  {
   "cell_type": "code",
   "execution_count": 8,
   "metadata": {
    "colab": {},
    "colab_type": "code",
    "id": "bsLHcw3hImh3"
   },
   "outputs": [],
   "source": [
    "# 데이터 나누기\n",
    "X = train.loc[:,['Outlet_Establishment_Year','Item_MRP']]"
   ]
  },
  {
   "cell_type": "code",
   "execution_count": 10,
   "metadata": {},
   "outputs": [
    {
     "data": {
      "text/html": [
       "<div>\n",
       "<style scoped>\n",
       "    .dataframe tbody tr th:only-of-type {\n",
       "        vertical-align: middle;\n",
       "    }\n",
       "\n",
       "    .dataframe tbody tr th {\n",
       "        vertical-align: top;\n",
       "    }\n",
       "\n",
       "    .dataframe thead th {\n",
       "        text-align: right;\n",
       "    }\n",
       "</style>\n",
       "<table border=\"1\" class=\"dataframe\">\n",
       "  <thead>\n",
       "    <tr style=\"text-align: right;\">\n",
       "      <th></th>\n",
       "      <th>Outlet_Establishment_Year</th>\n",
       "      <th>Item_MRP</th>\n",
       "    </tr>\n",
       "  </thead>\n",
       "  <tbody>\n",
       "    <tr>\n",
       "      <th>0</th>\n",
       "      <td>1999</td>\n",
       "      <td>249.8092</td>\n",
       "    </tr>\n",
       "    <tr>\n",
       "      <th>1</th>\n",
       "      <td>2009</td>\n",
       "      <td>48.2692</td>\n",
       "    </tr>\n",
       "    <tr>\n",
       "      <th>2</th>\n",
       "      <td>1999</td>\n",
       "      <td>141.6180</td>\n",
       "    </tr>\n",
       "    <tr>\n",
       "      <th>3</th>\n",
       "      <td>1998</td>\n",
       "      <td>182.0950</td>\n",
       "    </tr>\n",
       "    <tr>\n",
       "      <th>4</th>\n",
       "      <td>1987</td>\n",
       "      <td>53.8614</td>\n",
       "    </tr>\n",
       "  </tbody>\n",
       "</table>\n",
       "</div>"
      ],
      "text/plain": [
       "   Outlet_Establishment_Year  Item_MRP\n",
       "0                       1999  249.8092\n",
       "1                       2009   48.2692\n",
       "2                       1999  141.6180\n",
       "3                       1998  182.0950\n",
       "4                       1987   53.8614"
      ]
     },
     "execution_count": 10,
     "metadata": {},
     "output_type": "execute_result"
    }
   ],
   "source": [
    "X.head()"
   ]
  },
  {
   "cell_type": "code",
   "execution_count": 8,
   "metadata": {},
   "outputs": [],
   "source": [
    "# train[['Outlet_Establishment_Year','Item_MRP']]"
   ]
  },
  {
   "cell_type": "code",
   "execution_count": 11,
   "metadata": {
    "colab": {},
    "colab_type": "code",
    "id": "JRMxCrbwImh6",
    "outputId": "50e764df-29cd-4d3e-f2d1-d1143e6ac53c"
   },
   "outputs": [
    {
     "name": "stdout",
     "output_type": "stream",
     "text": [
      "2008096.2275348383 1417.073120038214\n",
      "0.3248917494929566\n"
     ]
    }
   ],
   "source": [
    "# 선형회귀 모델\n",
    "# 예측 특성으로 매장 개장 연도와 가격(Item_MRP) 두 개만 사용하는 경우\n",
    "\n",
    "from sklearn.linear_model import LinearRegression\n",
    "lreg = LinearRegression()\n",
    "\n",
    "# np.random.seed(7)\n",
    "x_train, x_test, y_train, y_test = train_test_split(X, train.Item_Outlet_Sales,\n",
    "                                                   test_size =0.3)\n",
    "lreg.fit(x_train,y_train)\n",
    "pred = lreg.predict(x_test)\n",
    "# 오차 자승의 평균, mse 계산\n",
    "mse = np.mean((pred - y_test)**2)\n",
    "# mse와 rmse 출력\n",
    "print(mse, mse**(0.5))\n",
    "print(lreg.score(x_test, y_test))"
   ]
  },
  {
   "cell_type": "code",
   "execution_count": 13,
   "metadata": {},
   "outputs": [
    {
     "data": {
      "text/plain": [
       "(array([-11.42610307,  15.46467463]),\n",
       " Index(['Outlet_Establishment_Year', 'Item_MRP'], dtype='object'))"
      ]
     },
     "execution_count": 13,
     "metadata": {},
     "output_type": "execute_result"
    }
   ],
   "source": [
    "lreg.coef_, x_train.columns"
   ]
  },
  {
   "cell_type": "code",
   "execution_count": 14,
   "metadata": {
    "colab": {},
    "colab_type": "code",
    "id": "N7MrnxfpImh-",
    "outputId": "3359b639-2fc7-4500-86ce-0f7d73ed48be"
   },
   "outputs": [
    {
     "data": {
      "text/html": [
       "<div>\n",
       "<style scoped>\n",
       "    .dataframe tbody tr th:only-of-type {\n",
       "        vertical-align: middle;\n",
       "    }\n",
       "\n",
       "    .dataframe tbody tr th {\n",
       "        vertical-align: top;\n",
       "    }\n",
       "\n",
       "    .dataframe thead th {\n",
       "        text-align: right;\n",
       "    }\n",
       "</style>\n",
       "<table border=\"1\" class=\"dataframe\">\n",
       "  <thead>\n",
       "    <tr style=\"text-align: right;\">\n",
       "      <th></th>\n",
       "      <th>0</th>\n",
       "      <th>Coefficient Estimate</th>\n",
       "    </tr>\n",
       "  </thead>\n",
       "  <tbody>\n",
       "    <tr>\n",
       "      <th>0</th>\n",
       "      <td>Outlet_Establishment_Year</td>\n",
       "      <td>-11.426103</td>\n",
       "    </tr>\n",
       "    <tr>\n",
       "      <th>1</th>\n",
       "      <td>Item_MRP</td>\n",
       "      <td>15.464675</td>\n",
       "    </tr>\n",
       "  </tbody>\n",
       "</table>\n",
       "</div>"
      ],
      "text/plain": [
       "                           0  Coefficient Estimate\n",
       "0  Outlet_Establishment_Year            -11.426103\n",
       "1                   Item_MRP             15.464675"
      ]
     },
     "execution_count": 14,
     "metadata": {},
     "output_type": "execute_result"
    }
   ],
   "source": [
    "# 선형모델 계수 출력\n",
    "\n",
    "coeff = DataFrame(x_train.columns)\n",
    "coeff['Coefficient Estimate'] = Series(lreg.coef_)\n",
    "coeff"
   ]
  },
  {
   "cell_type": "code",
   "execution_count": 15,
   "metadata": {
    "colab": {},
    "colab_type": "code",
    "id": "eBu8cn53ImiB",
    "outputId": "1b6fa94e-403b-46a3-d271-02ea269589ad",
    "scrolled": true
   },
   "outputs": [
    {
     "data": {
      "text/plain": [
       "<matplotlib.collections.PathCollection at 0x247cd3080c8>"
      ]
     },
     "execution_count": 15,
     "metadata": {},
     "output_type": "execute_result"
    },
    {
     "data": {
      "image/png": "[encoded data removed]",
      "text/plain": [
       "<Figure size 432x288 with 1 Axes>"
      ]
     },
     "metadata": {
      "needs_background": "light"
     },
     "output_type": "display_data"
    }
   ],
   "source": [
    "plt.scatter(train.Item_MRP, train.Item_Outlet_Sales, s=0.1)"
   ]
  },
  {
   "cell_type": "code",
   "execution_count": 16,
   "metadata": {
    "colab": {},
    "colab_type": "code",
    "id": "FS5II2LeImiI",
    "outputId": "cf8a25a8-93aa-472a-e594-214ff39d5024"
   },
   "outputs": [
    {
     "data": {
      "text/plain": [
       "<matplotlib.collections.PathCollection at 0x247cd3b4e08>"
      ]
     },
     "execution_count": 16,
     "metadata": {},
     "output_type": "execute_result"
    },
    {
     "data": {
      "image/png": "[encoded data removed]",
      "text/plain": [
       "<Figure size 432x288 with 1 Axes>"
      ]
     },
     "metadata": {
      "needs_background": "light"
     },
     "output_type": "display_data"
    }
   ],
   "source": [
    "plt.scatter(train.Outlet_Establishment_Year, train.Item_Outlet_Sales, s=0.1)"
   ]
  },
  {
   "cell_type": "markdown",
   "metadata": {},
   "source": [
    "- 매출이 설립된 연도에는 음의 관계,  상품가격에는 양의 관계."
   ]
  },
  {
   "cell_type": "code",
   "execution_count": 17,
   "metadata": {
    "colab": {},
    "colab_type": "code",
    "id": "NpZKQfUbImiM",
    "outputId": "ea3daf3d-cd5a-4386-d15f-19dbec85ba6f"
   },
   "outputs": [
    {
     "data": {
      "text/plain": [
       "0.3248917494929566"
      ]
     },
     "execution_count": 17,
     "metadata": {},
     "output_type": "execute_result"
    }
   ],
   "source": [
    "## 성능 평가 R squared\n",
    "# 이 모델이 분산의 32%를 설명한다\n",
    "lreg.score(x_test,y_test)"
   ]
  },
  {
   "cell_type": "markdown",
   "metadata": {
    "colab_type": "text",
    "id": "0GvaAzYsImiP"
   },
   "source": [
    "# 데이터 전체 사용\n",
    "## 전처리"
   ]
  },
  {
   "cell_type": "code",
   "execution_count": 19,
   "metadata": {},
   "outputs": [
    {
     "name": "stdout",
     "output_type": "stream",
     "text": [
      "<class 'pandas.core.frame.DataFrame'>\n",
      "RangeIndex: 8523 entries, 0 to 8522\n",
      "Data columns (total 12 columns):\n",
      " #   Column                     Non-Null Count  Dtype  \n",
      "---  ------                     --------------  -----  \n",
      " 0   Item_Identifier            8523 non-null   object \n",
      " 1   Item_Weight                7060 non-null   float64\n",
      " 2   Item_Fat_Content           8523 non-null   object \n",
      " 3   Item_Visibility            8523 non-null   float64\n",
      " 4   Item_Type                  8523 non-null   object \n",
      " 5   Item_MRP                   8523 non-null   float64\n",
      " 6   Outlet_Identifier          8523 non-null   object \n",
      " 7   Outlet_Establishment_Year  8523 non-null   int64  \n",
      " 8   Outlet_Size                6113 non-null   object \n",
      " 9   Outlet_Location_Type       8523 non-null   object \n",
      " 10  Outlet_Type                8523 non-null   object \n",
      " 11  Item_Outlet_Sales          8523 non-null   float64\n",
      "dtypes: float64(4), int64(1), object(7)\n",
      "memory usage: 799.2+ KB\n"
     ]
    }
   ],
   "source": [
    "train.info()"
   ]
  },
  {
   "cell_type": "code",
   "execution_count": 21,
   "metadata": {
    "colab": {},
    "colab_type": "code",
    "id": "A982B432ImiQ",
    "outputId": "4b9d4caa-d831-47b1-f24a-74e5d8d3a2f4",
    "scrolled": true
   },
   "outputs": [
    {
     "data": {
      "text/plain": [
       "Item_Identifier                 0\n",
       "Item_Weight                  1463\n",
       "Item_Fat_Content                0\n",
       "Item_Visibility                 0\n",
       "Item_Type                       0\n",
       "Item_MRP                        0\n",
       "Outlet_Identifier               0\n",
       "Outlet_Establishment_Year       0\n",
       "Outlet_Size                  2410\n",
       "Outlet_Location_Type            0\n",
       "Outlet_Type                     0\n",
       "Item_Outlet_Sales               0\n",
       "dtype: int64"
      ]
     },
     "execution_count": 21,
     "metadata": {},
     "output_type": "execute_result"
    }
   ],
   "source": [
    "train.isnull().sum()"
   ]
  },
  {
   "cell_type": "code",
   "execution_count": 22,
   "metadata": {
    "colab": {},
    "colab_type": "code",
    "id": "fUK0WtQjImiV"
   },
   "outputs": [],
   "source": [
    "# 무게를 평균치로 대체\n",
    "train['Item_Weight'].fillna((train['Item_Weight'].mean()), inplace=True)"
   ]
  },
  {
   "cell_type": "code",
   "execution_count": 17,
   "metadata": {
    "colab": {},
    "colab_type": "code",
    "id": "aOtUaYxfImiZ",
    "outputId": "ecdb8def-1e82-4336-cf47-51de5be42104"
   },
   "outputs": [],
   "source": [
    "# train.Item_Visibility.value_counts().head(10) # 상품의 가시성"
   ]
  },
  {
   "cell_type": "code",
   "execution_count": 23,
   "metadata": {
    "colab": {},
    "colab_type": "code",
    "id": "tm-YKO8SImic",
    "outputId": "d9aad624-09ca-454a-c6e6-8314b66b54ad",
    "scrolled": true
   },
   "outputs": [
    {
     "data": {
      "text/plain": [
       "<matplotlib.axes._subplots.AxesSubplot at 0x247cd40ec48>"
      ]
     },
     "execution_count": 23,
     "metadata": {},
     "output_type": "execute_result"
    },
    {
     "data": {
      "image/png": "[encoded data removed]",
      "text/plain": [
       "<Figure size 432x288 with 1 Axes>"
      ]
     },
     "metadata": {
      "needs_background": "light"
     },
     "output_type": "display_data"
    }
   ],
   "source": [
    "train.Item_Visibility.hist(bins=100)"
   ]
  },
  {
   "cell_type": "markdown",
   "metadata": {},
   "source": [
    "- 결측치는 아니지만 값이 0 이 많다. 실제로는 결측치로 보고 평균치로 대체"
   ]
  },
  {
   "cell_type": "code",
   "execution_count": 24,
   "metadata": {
    "colab": {},
    "colab_type": "code",
    "id": "PZvSBZweImig"
   },
   "outputs": [],
   "source": [
    "# 0을 평균치로 대체\n",
    "train['Item_Visibility'] = train['Item_Visibility'].replace(0,np.mean(train['Item_Visibility']))"
   ]
  },
  {
   "cell_type": "code",
   "execution_count": 25,
   "metadata": {
    "colab": {},
    "colab_type": "code",
    "id": "dbfcWdINImil",
    "outputId": "872cd328-33a4-4fc5-84a1-b97d38633cc6"
   },
   "outputs": [
    {
     "data": {
      "text/plain": [
       "<matplotlib.axes._subplots.AxesSubplot at 0x247cd5aad88>"
      ]
     },
     "execution_count": 25,
     "metadata": {},
     "output_type": "execute_result"
    },
    {
     "data": {
      "image/png": "[encoded data removed]",
      "text/plain": [
       "<Figure size 432x288 with 1 Axes>"
      ]
     },
     "metadata": {
      "needs_background": "light"
     },
     "output_type": "display_data"
    }
   ],
   "source": [
    "train.Item_Visibility.hist(bins=100)"
   ]
  },
  {
   "cell_type": "code",
   "execution_count": 26,
   "metadata": {},
   "outputs": [
    {
     "name": "stdout",
     "output_type": "stream",
     "text": [
      "<class 'pandas.core.frame.DataFrame'>\n",
      "RangeIndex: 8523 entries, 0 to 8522\n",
      "Data columns (total 12 columns):\n",
      " #   Column                     Non-Null Count  Dtype  \n",
      "---  ------                     --------------  -----  \n",
      " 0   Item_Identifier            8523 non-null   object \n",
      " 1   Item_Weight                8523 non-null   float64\n",
      " 2   Item_Fat_Content           8523 non-null   object \n",
      " 3   Item_Visibility            8523 non-null   float64\n",
      " 4   Item_Type                  8523 non-null   object \n",
      " 5   Item_MRP                   8523 non-null   float64\n",
      " 6   Outlet_Identifier          8523 non-null   object \n",
      " 7   Outlet_Establishment_Year  8523 non-null   int64  \n",
      " 8   Outlet_Size                6113 non-null   object \n",
      " 9   Outlet_Location_Type       8523 non-null   object \n",
      " 10  Outlet_Type                8523 non-null   object \n",
      " 11  Item_Outlet_Sales          8523 non-null   float64\n",
      "dtypes: float64(4), int64(1), object(7)\n",
      "memory usage: 799.2+ KB\n"
     ]
    }
   ],
   "source": [
    "train.info()"
   ]
  },
  {
   "cell_type": "code",
   "execution_count": 28,
   "metadata": {
    "colab": {},
    "colab_type": "code",
    "id": "O8vmug--Imit",
    "outputId": "09d52494-4ba4-415e-972d-c01c3d0f4739"
   },
   "outputs": [
    {
     "data": {
      "text/plain": [
       "1985    1463\n",
       "1987     932\n",
       "1999     930\n",
       "1997     930\n",
       "2004     930\n",
       "2002     929\n",
       "2009     928\n",
       "2007     926\n",
       "1998     555\n",
       "Name: Outlet_Establishment_Year, dtype: int64"
      ]
     },
     "execution_count": 28,
     "metadata": {},
     "output_type": "execute_result"
    }
   ],
   "source": [
    "train.Outlet_Establishment_Year.value_counts()"
   ]
  },
  {
   "cell_type": "code",
   "execution_count": 29,
   "metadata": {
    "colab": {},
    "colab_type": "code",
    "id": "O03ivxkmImix",
    "outputId": "dafec18d-6398-4f68-c277-0c4ecc83542b"
   },
   "outputs": [
    {
     "data": {
      "text/plain": [
       "<matplotlib.axes._subplots.AxesSubplot at 0x247cd5b6d48>"
      ]
     },
     "execution_count": 29,
     "metadata": {},
     "output_type": "execute_result"
    },
    {
     "data": {
      "image/png": "[encoded data removed]",
      "text/plain": [
       "<Figure size 432x288 with 1 Axes>"
      ]
     },
     "metadata": {
      "needs_background": "light"
     },
     "output_type": "display_data"
    }
   ],
   "source": [
    "train.Outlet_Establishment_Year.hist(bins=50)"
   ]
  },
  {
   "cell_type": "markdown",
   "metadata": {},
   "source": [
    "- 설립연도보다는 설립연도 후 경과한 연수로 바꾸는 게 좋겠다."
   ]
  },
  {
   "cell_type": "code",
   "execution_count": 30,
   "metadata": {
    "colab": {},
    "colab_type": "code",
    "id": "_QFenCeGImi0"
   },
   "outputs": [],
   "source": [
    "# 연도를 설립 기간으로 대체 (의미 있는 수치로 대체))\n",
    "train['Outlet_Establishment_Year'] = 2013 - train['Outlet_Establishment_Year']"
   ]
  },
  {
   "cell_type": "code",
   "execution_count": 31,
   "metadata": {
    "colab": {},
    "colab_type": "code",
    "id": "x9AMiH6WImi3",
    "outputId": "2984f2e4-234c-4609-c250-b77866bc04d2"
   },
   "outputs": [
    {
     "data": {
      "text/plain": [
       "<matplotlib.axes._subplots.AxesSubplot at 0x247cd7b5d88>"
      ]
     },
     "execution_count": 31,
     "metadata": {},
     "output_type": "execute_result"
    },
    {
     "data": {
      "image/png": "[encoded data removed]",
      "text/plain": [
       "<Figure size 432x288 with 1 Axes>"
      ]
     },
     "metadata": {
      "needs_background": "light"
     },
     "output_type": "display_data"
    }
   ],
   "source": [
    "train.Outlet_Establishment_Year.hist(bins=50)"
   ]
  },
  {
   "cell_type": "code",
   "execution_count": 32,
   "metadata": {
    "colab": {},
    "colab_type": "code",
    "id": "lxFx3_XaImi6",
    "outputId": "f591650e-6c0f-4854-8a71-f0ec145fcf8b"
   },
   "outputs": [
    {
     "data": {
      "text/plain": [
       "2410"
      ]
     },
     "execution_count": 32,
     "metadata": {},
     "output_type": "execute_result"
    }
   ],
   "source": [
    "train.Outlet_Size.isnull().sum()"
   ]
  },
  {
   "cell_type": "code",
   "execution_count": 33,
   "metadata": {
    "colab": {},
    "colab_type": "code",
    "id": "a3gk2BLrImi9",
    "outputId": "dabce1ab-1c7c-4e12-fe7d-14791d6b24c6",
    "scrolled": true
   },
   "outputs": [
    {
     "data": {
      "text/plain": [
       "Medium    2793\n",
       "Small     2388\n",
       "High       932\n",
       "Name: Outlet_Size, dtype: int64"
      ]
     },
     "execution_count": 33,
     "metadata": {},
     "output_type": "execute_result"
    }
   ],
   "source": [
    "train.Outlet_Size.value_counts()"
   ]
  },
  {
   "cell_type": "markdown",
   "metadata": {},
   "source": [
    "- 결측치를 Small 매장으로 대체하겠다"
   ]
  },
  {
   "cell_type": "code",
   "execution_count": 34,
   "metadata": {
    "colab": {},
    "colab_type": "code",
    "id": "gZsbwui7ImjA"
   },
   "outputs": [],
   "source": [
    "train['Outlet_Size'].fillna('Small',inplace=True) "
   ]
  },
  {
   "cell_type": "code",
   "execution_count": 35,
   "metadata": {
    "colab": {},
    "colab_type": "code",
    "id": "dxlq1j-9ImjC",
    "outputId": "5d97c597-4f9e-4720-a33b-f65898c43366"
   },
   "outputs": [
    {
     "data": {
      "text/plain": [
       "Small     4798\n",
       "Medium    2793\n",
       "High       932\n",
       "Name: Outlet_Size, dtype: int64"
      ]
     },
     "execution_count": 35,
     "metadata": {},
     "output_type": "execute_result"
    }
   ],
   "source": [
    "train.Outlet_Size.value_counts()"
   ]
  },
  {
   "cell_type": "code",
   "execution_count": 36,
   "metadata": {
    "colab": {},
    "colab_type": "code",
    "id": "PymUx9gWImjG",
    "outputId": "0418befa-8dd4-43ea-d98e-3d73c3d3f9fa"
   },
   "outputs": [
    {
     "data": {
      "text/plain": [
       "Item_Identifier              0\n",
       "Item_Weight                  0\n",
       "Item_Fat_Content             0\n",
       "Item_Visibility              0\n",
       "Item_Type                    0\n",
       "Item_MRP                     0\n",
       "Outlet_Identifier            0\n",
       "Outlet_Establishment_Year    0\n",
       "Outlet_Size                  0\n",
       "Outlet_Location_Type         0\n",
       "Outlet_Type                  0\n",
       "Item_Outlet_Sales            0\n",
       "dtype: int64"
      ]
     },
     "execution_count": 36,
     "metadata": {},
     "output_type": "execute_result"
    }
   ],
   "source": [
    "train.isnull().sum()"
   ]
  },
  {
   "cell_type": "code",
   "execution_count": 37,
   "metadata": {
    "colab": {},
    "colab_type": "code",
    "id": "-DU6FQ8XImjK"
   },
   "outputs": [],
   "source": [
    "# 상품명은 분석에서 제외\n",
    "train.drop(\"Item_Identifier\", axis=1, inplace=True)"
   ]
  },
  {
   "cell_type": "code",
   "execution_count": 40,
   "metadata": {},
   "outputs": [
    {
     "data": {
      "text/plain": [
       "Item_Weight                  float64\n",
       "Item_Fat_Content              object\n",
       "Item_Visibility              float64\n",
       "Item_Type                     object\n",
       "Item_MRP                     float64\n",
       "Outlet_Identifier             object\n",
       "Outlet_Establishment_Year      int64\n",
       "Outlet_Size                   object\n",
       "Outlet_Location_Type          object\n",
       "Outlet_Type                   object\n",
       "Item_Outlet_Sales            float64\n",
       "dtype: object"
      ]
     },
     "execution_count": 40,
     "metadata": {},
     "output_type": "execute_result"
    }
   ],
   "source": [
    "train.dtypes"
   ]
  },
  {
   "cell_type": "code",
   "execution_count": 41,
   "metadata": {
    "colab": {},
    "colab_type": "code",
    "id": "yXyrTORqImjM",
    "outputId": "efe76954-e2a0-4622-e217-b38fdec54211"
   },
   "outputs": [
    {
     "data": {
      "text/plain": [
       "['Item_Fat_Content',\n",
       " 'Item_Type',\n",
       " 'Outlet_Identifier',\n",
       " 'Outlet_Size',\n",
       " 'Outlet_Location_Type',\n",
       " 'Outlet_Type']"
      ]
     },
     "execution_count": 41,
     "metadata": {},
     "output_type": "execute_result"
    }
   ],
   "source": [
    "# 카테고리 변수 인코딩\n",
    "# 먼저 타입이 object인 카테고리 변수의 리스트를 만든다.\n",
    "object_list = list(train.select_dtypes(include=['object']).columns)\n",
    "object_list"
   ]
  },
  {
   "cell_type": "code",
   "execution_count": 42,
   "metadata": {
    "colab": {},
    "colab_type": "code",
    "id": "qUCBOcQfImjQ"
   },
   "outputs": [],
   "source": [
    "dummies = pd.get_dummies(train[object_list], prefix= object_list)"
   ]
  },
  {
   "cell_type": "code",
   "execution_count": 44,
   "metadata": {
    "colab": {},
    "colab_type": "code",
    "id": "bhL49LHnImjS",
    "outputId": "7b99f127-8a41-451b-85d9-f636395172bb"
   },
   "outputs": [
    {
     "data": {
      "text/html": [
       "<div>\n",
       "<style scoped>\n",
       "    .dataframe tbody tr th:only-of-type {\n",
       "        vertical-align: middle;\n",
       "    }\n",
       "\n",
       "    .dataframe tbody tr th {\n",
       "        vertical-align: top;\n",
       "    }\n",
       "\n",
       "    .dataframe thead th {\n",
       "        text-align: right;\n",
       "    }\n",
       "</style>\n",
       "<table border=\"1\" class=\"dataframe\">\n",
       "  <thead>\n",
       "    <tr style=\"text-align: right;\">\n",
       "      <th></th>\n",
       "      <th>0</th>\n",
       "      <th>1</th>\n",
       "      <th>2</th>\n",
       "      <th>3</th>\n",
       "      <th>4</th>\n",
       "    </tr>\n",
       "  </thead>\n",
       "  <tbody>\n",
       "    <tr>\n",
       "      <th>Item_Fat_Content_LF</th>\n",
       "      <td>0</td>\n",
       "      <td>0</td>\n",
       "      <td>0</td>\n",
       "      <td>0</td>\n",
       "      <td>0</td>\n",
       "    </tr>\n",
       "    <tr>\n",
       "      <th>Item_Fat_Content_Low Fat</th>\n",
       "      <td>1</td>\n",
       "      <td>0</td>\n",
       "      <td>1</td>\n",
       "      <td>0</td>\n",
       "      <td>1</td>\n",
       "    </tr>\n",
       "    <tr>\n",
       "      <th>Item_Fat_Content_Regular</th>\n",
       "      <td>0</td>\n",
       "      <td>1</td>\n",
       "      <td>0</td>\n",
       "      <td>1</td>\n",
       "      <td>0</td>\n",
       "    </tr>\n",
       "    <tr>\n",
       "      <th>Item_Fat_Content_low fat</th>\n",
       "      <td>0</td>\n",
       "      <td>0</td>\n",
       "      <td>0</td>\n",
       "      <td>0</td>\n",
       "      <td>0</td>\n",
       "    </tr>\n",
       "    <tr>\n",
       "      <th>Item_Fat_Content_reg</th>\n",
       "      <td>0</td>\n",
       "      <td>0</td>\n",
       "      <td>0</td>\n",
       "      <td>0</td>\n",
       "      <td>0</td>\n",
       "    </tr>\n",
       "    <tr>\n",
       "      <th>Item_Type_Baking Goods</th>\n",
       "      <td>0</td>\n",
       "      <td>0</td>\n",
       "      <td>0</td>\n",
       "      <td>0</td>\n",
       "      <td>0</td>\n",
       "    </tr>\n",
       "    <tr>\n",
       "      <th>Item_Type_Breads</th>\n",
       "      <td>0</td>\n",
       "      <td>0</td>\n",
       "      <td>0</td>\n",
       "      <td>0</td>\n",
       "      <td>0</td>\n",
       "    </tr>\n",
       "    <tr>\n",
       "      <th>Item_Type_Breakfast</th>\n",
       "      <td>0</td>\n",
       "      <td>0</td>\n",
       "      <td>0</td>\n",
       "      <td>0</td>\n",
       "      <td>0</td>\n",
       "    </tr>\n",
       "    <tr>\n",
       "      <th>Item_Type_Canned</th>\n",
       "      <td>0</td>\n",
       "      <td>0</td>\n",
       "      <td>0</td>\n",
       "      <td>0</td>\n",
       "      <td>0</td>\n",
       "    </tr>\n",
       "    <tr>\n",
       "      <th>Item_Type_Dairy</th>\n",
       "      <td>1</td>\n",
       "      <td>0</td>\n",
       "      <td>0</td>\n",
       "      <td>0</td>\n",
       "      <td>0</td>\n",
       "    </tr>\n",
       "    <tr>\n",
       "      <th>Item_Type_Frozen Foods</th>\n",
       "      <td>0</td>\n",
       "      <td>0</td>\n",
       "      <td>0</td>\n",
       "      <td>0</td>\n",
       "      <td>0</td>\n",
       "    </tr>\n",
       "    <tr>\n",
       "      <th>Item_Type_Fruits and Vegetables</th>\n",
       "      <td>0</td>\n",
       "      <td>0</td>\n",
       "      <td>0</td>\n",
       "      <td>1</td>\n",
       "      <td>0</td>\n",
       "    </tr>\n",
       "    <tr>\n",
       "      <th>Item_Type_Hard Drinks</th>\n",
       "      <td>0</td>\n",
       "      <td>0</td>\n",
       "      <td>0</td>\n",
       "      <td>0</td>\n",
       "      <td>0</td>\n",
       "    </tr>\n",
       "    <tr>\n",
       "      <th>Item_Type_Health and Hygiene</th>\n",
       "      <td>0</td>\n",
       "      <td>0</td>\n",
       "      <td>0</td>\n",
       "      <td>0</td>\n",
       "      <td>0</td>\n",
       "    </tr>\n",
       "    <tr>\n",
       "      <th>Item_Type_Household</th>\n",
       "      <td>0</td>\n",
       "      <td>0</td>\n",
       "      <td>0</td>\n",
       "      <td>0</td>\n",
       "      <td>1</td>\n",
       "    </tr>\n",
       "    <tr>\n",
       "      <th>Item_Type_Meat</th>\n",
       "      <td>0</td>\n",
       "      <td>0</td>\n",
       "      <td>1</td>\n",
       "      <td>0</td>\n",
       "      <td>0</td>\n",
       "    </tr>\n",
       "    <tr>\n",
       "      <th>Item_Type_Others</th>\n",
       "      <td>0</td>\n",
       "      <td>0</td>\n",
       "      <td>0</td>\n",
       "      <td>0</td>\n",
       "      <td>0</td>\n",
       "    </tr>\n",
       "    <tr>\n",
       "      <th>Item_Type_Seafood</th>\n",
       "      <td>0</td>\n",
       "      <td>0</td>\n",
       "      <td>0</td>\n",
       "      <td>0</td>\n",
       "      <td>0</td>\n",
       "    </tr>\n",
       "    <tr>\n",
       "      <th>Item_Type_Snack Foods</th>\n",
       "      <td>0</td>\n",
       "      <td>0</td>\n",
       "      <td>0</td>\n",
       "      <td>0</td>\n",
       "      <td>0</td>\n",
       "    </tr>\n",
       "    <tr>\n",
       "      <th>Item_Type_Soft Drinks</th>\n",
       "      <td>0</td>\n",
       "      <td>1</td>\n",
       "      <td>0</td>\n",
       "      <td>0</td>\n",
       "      <td>0</td>\n",
       "    </tr>\n",
       "    <tr>\n",
       "      <th>Item_Type_Starchy Foods</th>\n",
       "      <td>0</td>\n",
       "      <td>0</td>\n",
       "      <td>0</td>\n",
       "      <td>0</td>\n",
       "      <td>0</td>\n",
       "    </tr>\n",
       "    <tr>\n",
       "      <th>Outlet_Identifier_OUT010</th>\n",
       "      <td>0</td>\n",
       "      <td>0</td>\n",
       "      <td>0</td>\n",
       "      <td>1</td>\n",
       "      <td>0</td>\n",
       "    </tr>\n",
       "    <tr>\n",
       "      <th>Outlet_Identifier_OUT013</th>\n",
       "      <td>0</td>\n",
       "      <td>0</td>\n",
       "      <td>0</td>\n",
       "      <td>0</td>\n",
       "      <td>1</td>\n",
       "    </tr>\n",
       "    <tr>\n",
       "      <th>Outlet_Identifier_OUT017</th>\n",
       "      <td>0</td>\n",
       "      <td>0</td>\n",
       "      <td>0</td>\n",
       "      <td>0</td>\n",
       "      <td>0</td>\n",
       "    </tr>\n",
       "    <tr>\n",
       "      <th>Outlet_Identifier_OUT018</th>\n",
       "      <td>0</td>\n",
       "      <td>1</td>\n",
       "      <td>0</td>\n",
       "      <td>0</td>\n",
       "      <td>0</td>\n",
       "    </tr>\n",
       "    <tr>\n",
       "      <th>Outlet_Identifier_OUT019</th>\n",
       "      <td>0</td>\n",
       "      <td>0</td>\n",
       "      <td>0</td>\n",
       "      <td>0</td>\n",
       "      <td>0</td>\n",
       "    </tr>\n",
       "    <tr>\n",
       "      <th>Outlet_Identifier_OUT027</th>\n",
       "      <td>0</td>\n",
       "      <td>0</td>\n",
       "      <td>0</td>\n",
       "      <td>0</td>\n",
       "      <td>0</td>\n",
       "    </tr>\n",
       "    <tr>\n",
       "      <th>Outlet_Identifier_OUT035</th>\n",
       "      <td>0</td>\n",
       "      <td>0</td>\n",
       "      <td>0</td>\n",
       "      <td>0</td>\n",
       "      <td>0</td>\n",
       "    </tr>\n",
       "    <tr>\n",
       "      <th>Outlet_Identifier_OUT045</th>\n",
       "      <td>0</td>\n",
       "      <td>0</td>\n",
       "      <td>0</td>\n",
       "      <td>0</td>\n",
       "      <td>0</td>\n",
       "    </tr>\n",
       "    <tr>\n",
       "      <th>Outlet_Identifier_OUT046</th>\n",
       "      <td>0</td>\n",
       "      <td>0</td>\n",
       "      <td>0</td>\n",
       "      <td>0</td>\n",
       "      <td>0</td>\n",
       "    </tr>\n",
       "    <tr>\n",
       "      <th>Outlet_Identifier_OUT049</th>\n",
       "      <td>1</td>\n",
       "      <td>0</td>\n",
       "      <td>1</td>\n",
       "      <td>0</td>\n",
       "      <td>0</td>\n",
       "    </tr>\n",
       "    <tr>\n",
       "      <th>Outlet_Size_High</th>\n",
       "      <td>0</td>\n",
       "      <td>0</td>\n",
       "      <td>0</td>\n",
       "      <td>0</td>\n",
       "      <td>1</td>\n",
       "    </tr>\n",
       "    <tr>\n",
       "      <th>Outlet_Size_Medium</th>\n",
       "      <td>1</td>\n",
       "      <td>1</td>\n",
       "      <td>1</td>\n",
       "      <td>0</td>\n",
       "      <td>0</td>\n",
       "    </tr>\n",
       "    <tr>\n",
       "      <th>Outlet_Size_Small</th>\n",
       "      <td>0</td>\n",
       "      <td>0</td>\n",
       "      <td>0</td>\n",
       "      <td>1</td>\n",
       "      <td>0</td>\n",
       "    </tr>\n",
       "    <tr>\n",
       "      <th>Outlet_Location_Type_Tier 1</th>\n",
       "      <td>1</td>\n",
       "      <td>0</td>\n",
       "      <td>1</td>\n",
       "      <td>0</td>\n",
       "      <td>0</td>\n",
       "    </tr>\n",
       "    <tr>\n",
       "      <th>Outlet_Location_Type_Tier 2</th>\n",
       "      <td>0</td>\n",
       "      <td>0</td>\n",
       "      <td>0</td>\n",
       "      <td>0</td>\n",
       "      <td>0</td>\n",
       "    </tr>\n",
       "    <tr>\n",
       "      <th>Outlet_Location_Type_Tier 3</th>\n",
       "      <td>0</td>\n",
       "      <td>1</td>\n",
       "      <td>0</td>\n",
       "      <td>1</td>\n",
       "      <td>1</td>\n",
       "    </tr>\n",
       "    <tr>\n",
       "      <th>Outlet_Type_Grocery Store</th>\n",
       "      <td>0</td>\n",
       "      <td>0</td>\n",
       "      <td>0</td>\n",
       "      <td>1</td>\n",
       "      <td>0</td>\n",
       "    </tr>\n",
       "    <tr>\n",
       "      <th>Outlet_Type_Supermarket Type1</th>\n",
       "      <td>1</td>\n",
       "      <td>0</td>\n",
       "      <td>1</td>\n",
       "      <td>0</td>\n",
       "      <td>1</td>\n",
       "    </tr>\n",
       "    <tr>\n",
       "      <th>Outlet_Type_Supermarket Type2</th>\n",
       "      <td>0</td>\n",
       "      <td>1</td>\n",
       "      <td>0</td>\n",
       "      <td>0</td>\n",
       "      <td>0</td>\n",
       "    </tr>\n",
       "    <tr>\n",
       "      <th>Outlet_Type_Supermarket Type3</th>\n",
       "      <td>0</td>\n",
       "      <td>0</td>\n",
       "      <td>0</td>\n",
       "      <td>0</td>\n",
       "      <td>0</td>\n",
       "    </tr>\n",
       "  </tbody>\n",
       "</table>\n",
       "</div>"
      ],
      "text/plain": [
       "                                 0  1  2  3  4\n",
       "Item_Fat_Content_LF              0  0  0  0  0\n",
       "Item_Fat_Content_Low Fat         1  0  1  0  1\n",
       "Item_Fat_Content_Regular         0  1  0  1  0\n",
       "Item_Fat_Content_low fat         0  0  0  0  0\n",
       "Item_Fat_Content_reg             0  0  0  0  0\n",
       "Item_Type_Baking Goods           0  0  0  0  0\n",
       "Item_Type_Breads                 0  0  0  0  0\n",
       "Item_Type_Breakfast              0  0  0  0  0\n",
       "Item_Type_Canned                 0  0  0  0  0\n",
       "Item_Type_Dairy                  1  0  0  0  0\n",
       "Item_Type_Frozen Foods           0  0  0  0  0\n",
       "Item_Type_Fruits and Vegetables  0  0  0  1  0\n",
       "Item_Type_Hard Drinks            0  0  0  0  0\n",
       "Item_Type_Health and Hygiene     0  0  0  0  0\n",
       "Item_Type_Household              0  0  0  0  1\n",
       "Item_Type_Meat                   0  0  1  0  0\n",
       "Item_Type_Others                 0  0  0  0  0\n",
       "Item_Type_Seafood                0  0  0  0  0\n",
       "Item_Type_Snack Foods            0  0  0  0  0\n",
       "Item_Type_Soft Drinks            0  1  0  0  0\n",
       "Item_Type_Starchy Foods          0  0  0  0  0\n",
       "Outlet_Identifier_OUT010         0  0  0  1  0\n",
       "Outlet_Identifier_OUT013         0  0  0  0  1\n",
       "Outlet_Identifier_OUT017         0  0  0  0  0\n",
       "Outlet_Identifier_OUT018         0  1  0  0  0\n",
       "Outlet_Identifier_OUT019         0  0  0  0  0\n",
       "Outlet_Identifier_OUT027         0  0  0  0  0\n",
       "Outlet_Identifier_OUT035         0  0  0  0  0\n",
       "Outlet_Identifier_OUT045         0  0  0  0  0\n",
       "Outlet_Identifier_OUT046         0  0  0  0  0\n",
       "Outlet_Identifier_OUT049         1  0  1  0  0\n",
       "Outlet_Size_High                 0  0  0  0  1\n",
       "Outlet_Size_Medium               1  1  1  0  0\n",
       "Outlet_Size_Small                0  0  0  1  0\n",
       "Outlet_Location_Type_Tier 1      1  0  1  0  0\n",
       "Outlet_Location_Type_Tier 2      0  0  0  0  0\n",
       "Outlet_Location_Type_Tier 3      0  1  0  1  1\n",
       "Outlet_Type_Grocery Store        0  0  0  1  0\n",
       "Outlet_Type_Supermarket Type1    1  0  1  0  1\n",
       "Outlet_Type_Supermarket Type2    0  1  0  0  0\n",
       "Outlet_Type_Supermarket Type3    0  0  0  0  0"
      ]
     },
     "execution_count": 44,
     "metadata": {},
     "output_type": "execute_result"
    }
   ],
   "source": [
    "dummies.head().T"
   ]
  },
  {
   "cell_type": "code",
   "execution_count": 46,
   "metadata": {},
   "outputs": [
    {
     "data": {
      "text/plain": [
       "(8523, 41)"
      ]
     },
     "execution_count": 46,
     "metadata": {},
     "output_type": "execute_result"
    }
   ],
   "source": [
    "dummies.shape"
   ]
  },
  {
   "cell_type": "code",
   "execution_count": 47,
   "metadata": {
    "colab": {},
    "colab_type": "code",
    "id": "ib4YAVOgImjX"
   },
   "outputs": [],
   "source": [
    "# 원래의 열은 삭제하고 더미 변수 열을 추가한다.\n",
    "X1 = train.drop(object_list, axis=1)"
   ]
  },
  {
   "cell_type": "code",
   "execution_count": 48,
   "metadata": {
    "colab": {},
    "colab_type": "code",
    "id": "t__PD3gTImjb",
    "outputId": "58be1f2b-c12b-41c0-bd5b-c0272a25c6fa"
   },
   "outputs": [
    {
     "data": {
      "text/html": [
       "<div>\n",
       "<style scoped>\n",
       "    .dataframe tbody tr th:only-of-type {\n",
       "        vertical-align: middle;\n",
       "    }\n",
       "\n",
       "    .dataframe tbody tr th {\n",
       "        vertical-align: top;\n",
       "    }\n",
       "\n",
       "    .dataframe thead th {\n",
       "        text-align: right;\n",
       "    }\n",
       "</style>\n",
       "<table border=\"1\" class=\"dataframe\">\n",
       "  <thead>\n",
       "    <tr style=\"text-align: right;\">\n",
       "      <th></th>\n",
       "      <th>Item_Weight</th>\n",
       "      <th>Item_Visibility</th>\n",
       "      <th>Item_MRP</th>\n",
       "      <th>Outlet_Establishment_Year</th>\n",
       "      <th>Item_Outlet_Sales</th>\n",
       "    </tr>\n",
       "  </thead>\n",
       "  <tbody>\n",
       "    <tr>\n",
       "      <th>0</th>\n",
       "      <td>9.30</td>\n",
       "      <td>0.016047</td>\n",
       "      <td>249.8092</td>\n",
       "      <td>14</td>\n",
       "      <td>3735.1380</td>\n",
       "    </tr>\n",
       "    <tr>\n",
       "      <th>1</th>\n",
       "      <td>5.92</td>\n",
       "      <td>0.019278</td>\n",
       "      <td>48.2692</td>\n",
       "      <td>4</td>\n",
       "      <td>443.4228</td>\n",
       "    </tr>\n",
       "    <tr>\n",
       "      <th>2</th>\n",
       "      <td>17.50</td>\n",
       "      <td>0.016760</td>\n",
       "      <td>141.6180</td>\n",
       "      <td>14</td>\n",
       "      <td>2097.2700</td>\n",
       "    </tr>\n",
       "    <tr>\n",
       "      <th>3</th>\n",
       "      <td>19.20</td>\n",
       "      <td>0.066132</td>\n",
       "      <td>182.0950</td>\n",
       "      <td>15</td>\n",
       "      <td>732.3800</td>\n",
       "    </tr>\n",
       "    <tr>\n",
       "      <th>4</th>\n",
       "      <td>8.93</td>\n",
       "      <td>0.066132</td>\n",
       "      <td>53.8614</td>\n",
       "      <td>26</td>\n",
       "      <td>994.7052</td>\n",
       "    </tr>\n",
       "  </tbody>\n",
       "</table>\n",
       "</div>"
      ],
      "text/plain": [
       "   Item_Weight  Item_Visibility  Item_MRP  Outlet_Establishment_Year  \\\n",
       "0         9.30         0.016047  249.8092                         14   \n",
       "1         5.92         0.019278   48.2692                          4   \n",
       "2        17.50         0.016760  141.6180                         14   \n",
       "3        19.20         0.066132  182.0950                         15   \n",
       "4         8.93         0.066132   53.8614                         26   \n",
       "\n",
       "   Item_Outlet_Sales  \n",
       "0          3735.1380  \n",
       "1           443.4228  \n",
       "2          2097.2700  \n",
       "3           732.3800  \n",
       "4           994.7052  "
      ]
     },
     "execution_count": 48,
     "metadata": {},
     "output_type": "execute_result"
    }
   ],
   "source": [
    "X1.head()"
   ]
  },
  {
   "cell_type": "code",
   "execution_count": 49,
   "metadata": {
    "colab": {},
    "colab_type": "code",
    "id": "1dg6EOgVImje"
   },
   "outputs": [],
   "source": [
    "# 목적 변수\n",
    "y = X1.Item_Outlet_Sales\n",
    "X1 = X1.drop('Item_Outlet_Sales',1)"
   ]
  },
  {
   "cell_type": "code",
   "execution_count": 50,
   "metadata": {
    "colab": {},
    "colab_type": "code",
    "id": "VyYAtV5dImjg",
    "outputId": "993ac55a-6e07-4aee-896f-35794cad02b5"
   },
   "outputs": [
    {
     "data": {
      "text/html": [
       "<div>\n",
       "<style scoped>\n",
       "    .dataframe tbody tr th:only-of-type {\n",
       "        vertical-align: middle;\n",
       "    }\n",
       "\n",
       "    .dataframe tbody tr th {\n",
       "        vertical-align: top;\n",
       "    }\n",
       "\n",
       "    .dataframe thead th {\n",
       "        text-align: right;\n",
       "    }\n",
       "</style>\n",
       "<table border=\"1\" class=\"dataframe\">\n",
       "  <thead>\n",
       "    <tr style=\"text-align: right;\">\n",
       "      <th></th>\n",
       "      <th>Item_Weight</th>\n",
       "      <th>Item_Visibility</th>\n",
       "      <th>Item_MRP</th>\n",
       "      <th>Outlet_Establishment_Year</th>\n",
       "    </tr>\n",
       "  </thead>\n",
       "  <tbody>\n",
       "    <tr>\n",
       "      <th>0</th>\n",
       "      <td>9.300</td>\n",
       "      <td>0.016047</td>\n",
       "      <td>249.8092</td>\n",
       "      <td>14</td>\n",
       "    </tr>\n",
       "    <tr>\n",
       "      <th>1</th>\n",
       "      <td>5.920</td>\n",
       "      <td>0.019278</td>\n",
       "      <td>48.2692</td>\n",
       "      <td>4</td>\n",
       "    </tr>\n",
       "    <tr>\n",
       "      <th>2</th>\n",
       "      <td>17.500</td>\n",
       "      <td>0.016760</td>\n",
       "      <td>141.6180</td>\n",
       "      <td>14</td>\n",
       "    </tr>\n",
       "    <tr>\n",
       "      <th>3</th>\n",
       "      <td>19.200</td>\n",
       "      <td>0.066132</td>\n",
       "      <td>182.0950</td>\n",
       "      <td>15</td>\n",
       "    </tr>\n",
       "    <tr>\n",
       "      <th>4</th>\n",
       "      <td>8.930</td>\n",
       "      <td>0.066132</td>\n",
       "      <td>53.8614</td>\n",
       "      <td>26</td>\n",
       "    </tr>\n",
       "    <tr>\n",
       "      <th>...</th>\n",
       "      <td>...</td>\n",
       "      <td>...</td>\n",
       "      <td>...</td>\n",
       "      <td>...</td>\n",
       "    </tr>\n",
       "    <tr>\n",
       "      <th>8518</th>\n",
       "      <td>6.865</td>\n",
       "      <td>0.056783</td>\n",
       "      <td>214.5218</td>\n",
       "      <td>26</td>\n",
       "    </tr>\n",
       "    <tr>\n",
       "      <th>8519</th>\n",
       "      <td>8.380</td>\n",
       "      <td>0.046982</td>\n",
       "      <td>108.1570</td>\n",
       "      <td>11</td>\n",
       "    </tr>\n",
       "    <tr>\n",
       "      <th>8520</th>\n",
       "      <td>10.600</td>\n",
       "      <td>0.035186</td>\n",
       "      <td>85.1224</td>\n",
       "      <td>9</td>\n",
       "    </tr>\n",
       "    <tr>\n",
       "      <th>8521</th>\n",
       "      <td>7.210</td>\n",
       "      <td>0.145221</td>\n",
       "      <td>103.1332</td>\n",
       "      <td>4</td>\n",
       "    </tr>\n",
       "    <tr>\n",
       "      <th>8522</th>\n",
       "      <td>14.800</td>\n",
       "      <td>0.044878</td>\n",
       "      <td>75.4670</td>\n",
       "      <td>16</td>\n",
       "    </tr>\n",
       "  </tbody>\n",
       "</table>\n",
       "<p>8523 rows × 4 columns</p>\n",
       "</div>"
      ],
      "text/plain": [
       "      Item_Weight  Item_Visibility  Item_MRP  Outlet_Establishment_Year\n",
       "0           9.300         0.016047  249.8092                         14\n",
       "1           5.920         0.019278   48.2692                          4\n",
       "2          17.500         0.016760  141.6180                         14\n",
       "3          19.200         0.066132  182.0950                         15\n",
       "4           8.930         0.066132   53.8614                         26\n",
       "...           ...              ...       ...                        ...\n",
       "8518        6.865         0.056783  214.5218                         26\n",
       "8519        8.380         0.046982  108.1570                         11\n",
       "8520       10.600         0.035186   85.1224                          9\n",
       "8521        7.210         0.145221  103.1332                          4\n",
       "8522       14.800         0.044878   75.4670                         16\n",
       "\n",
       "[8523 rows x 4 columns]"
      ]
     },
     "execution_count": 50,
     "metadata": {},
     "output_type": "execute_result"
    }
   ],
   "source": [
    "X1"
   ]
  },
  {
   "cell_type": "code",
   "execution_count": 51,
   "metadata": {
    "colab": {},
    "colab_type": "code",
    "id": "RNQOqyATImji"
   },
   "outputs": [],
   "source": [
    "# 스케일링을 하는 경우\n",
    "from sklearn.preprocessing import StandardScaler\n",
    "sc = StandardScaler()\n",
    "X1 = sc.fit_transform(X1)"
   ]
  },
  {
   "cell_type": "code",
   "execution_count": 52,
   "metadata": {
    "colab": {},
    "colab_type": "code",
    "id": "hDtIklIwImjk"
   },
   "outputs": [],
   "source": [
    "X = pd.concat([pd.DataFrame(X1),dummies], axis =1)"
   ]
  },
  {
   "cell_type": "code",
   "execution_count": 53,
   "metadata": {
    "colab": {},
    "colab_type": "code",
    "id": "XtWHXcR6Imjo",
    "outputId": "7801fea0-1f71-44f8-ce1c-962a4019119c"
   },
   "outputs": [
    {
     "data": {
      "text/plain": [
       "((8523, 41), (8523, 4), (8523, 45))"
      ]
     },
     "execution_count": 53,
     "metadata": {},
     "output_type": "execute_result"
    }
   ],
   "source": [
    "dummies.shape, X1.shape, X.shape "
   ]
  },
  {
   "cell_type": "code",
   "execution_count": 54,
   "metadata": {
    "colab": {},
    "colab_type": "code",
    "id": "DrdgHuPRImjt",
    "outputId": "0baa02a2-9a5f-433b-ff7d-1754d6c15b4c"
   },
   "outputs": [
    {
     "name": "stdout",
     "output_type": "stream",
     "text": [
      "1387.915155318392\n",
      "0.3459348199771226\n"
     ]
    }
   ],
   "source": [
    "# 4개의 실수로 된 특성만 사용하는 경우\n",
    "np.random.seed(7)\n",
    "x_train, x_test, y_train, y_test = train_test_split(X1,y,test_size =0.3)\n",
    "lreg.fit(x_train,y_train)\n",
    "pred_test = lreg.predict(x_test)\n",
    "mse = np.mean((pred_test - y_test)**2)\n",
    "print(mse**0.5)\n",
    "print(lreg.score(x_test,y_test))"
   ]
  },
  {
   "cell_type": "code",
   "execution_count": 56,
   "metadata": {
    "colab": {},
    "colab_type": "code",
    "id": "C8NYVvD9Imj0",
    "outputId": "4bca607a-ce06-483a-8ff5-54d6756c0b37"
   },
   "outputs": [
    {
     "name": "stdout",
     "output_type": "stream",
     "text": [
      "1152.9528012255219\n",
      "0.5486450070518096\n"
     ]
    }
   ],
   "source": [
    "# 45개의 모든 특성을 사용하는 경우\n",
    "np.random.seed(7)\n",
    "x_train, x_test, y_train, y_test = train_test_split(X,y,test_size =0.3)\n",
    "lreg.fit(x_train,y_train)\n",
    "pred_test = lreg.predict(x_test)\n",
    "mse = np.mean((pred_test - y_test)**2)\n",
    "print(mse**0.5)\n",
    "print(lreg.score(x_test,y_test))"
   ]
  },
  {
   "cell_type": "markdown",
   "metadata": {},
   "source": [
    "# 오차 플롯"
   ]
  },
  {
   "cell_type": "markdown",
   "metadata": {
    "colab": {},
    "colab_type": "code",
    "id": "NHaD0PfbImj7",
    "outputId": "651faddf-0fb0-4881-f579-da38c065105d"
   },
   "source": [
    "- 예측값에 대해 오차의 발생 형태가 랜덤하지 않고 비선형 성분이 많이 들어 있다. 그림에서 양수, 음수 그대로 보임."
   ]
  },
  {
   "cell_type": "code",
   "execution_count": 57,
   "metadata": {
    "colab": {},
    "colab_type": "code",
    "id": "NHaD0PfbImj7",
    "outputId": "651faddf-0fb0-4881-f579-da38c065105d"
   },
   "outputs": [
    {
     "data": {
      "text/plain": [
       "Text(0.5, 1.0, 'Residual plot')"
      ]
     },
     "execution_count": 57,
     "metadata": {},
     "output_type": "execute_result"
    },
    {
     "data": {
      "image/png": "[encoded data removed]",
      "text/plain": [
       "<Figure size 432x288 with 1 Axes>"
      ]
     },
     "metadata": {
      "needs_background": "light"
     },
     "output_type": "display_data"
    }
   ],
   "source": [
    "x_plot = plt.scatter(pred_test, (pred_test - y_test), c='b', s=1)\n",
    "plt.hlines(y=0, xmin= -1000, xmax=5000)\n",
    "plt.title('Residual plot')"
   ]
  },
  {
   "cell_type": "markdown",
   "metadata": {},
   "source": [
    "- 전체 45개 특성 계수의 크기를 나열해 보자"
   ]
  },
  {
   "cell_type": "code",
   "execution_count": 58,
   "metadata": {},
   "outputs": [
    {
     "data": {
      "text/plain": [
       "0                                 -7.632584e-01\n",
       "1                                 -6.568230e+00\n",
       "2                                  9.788544e+02\n",
       "3                                  1.363343e+14\n",
       "Item_Fat_Content_LF                6.823026e+14\n",
       "Item_Fat_Content_Low Fat           6.823026e+14\n",
       "Item_Fat_Content_Regular           6.823026e+14\n",
       "Item_Fat_Content_low fat           6.823026e+14\n",
       "Item_Fat_Content_reg               6.823026e+14\n",
       "Item_Type_Baking Goods            -3.484358e+14\n",
       "Item_Type_Breads                  -3.484358e+14\n",
       "Item_Type_Breakfast               -3.484358e+14\n",
       "Item_Type_Canned                  -3.484358e+14\n",
       "Item_Type_Dairy                   -3.484358e+14\n",
       "Item_Type_Frozen Foods            -3.484358e+14\n",
       "Item_Type_Fruits and Vegetables   -3.484358e+14\n",
       "Item_Type_Hard Drinks             -3.484358e+14\n",
       "Item_Type_Health and Hygiene      -3.484358e+14\n",
       "Item_Type_Household               -3.484358e+14\n",
       "Item_Type_Meat                    -3.484358e+14\n",
       "Item_Type_Others                  -3.484358e+14\n",
       "Item_Type_Seafood                 -3.484358e+14\n",
       "Item_Type_Snack Foods             -3.484358e+14\n",
       "Item_Type_Soft Drinks             -3.484358e+14\n",
       "Item_Type_Starchy Foods           -3.484358e+14\n",
       "Outlet_Identifier_OUT010          -3.918596e+14\n",
       "Outlet_Identifier_OUT013          -1.537427e+13\n",
       "Outlet_Identifier_OUT017           2.613236e+13\n",
       "Outlet_Identifier_OUT018           3.291236e+14\n",
       "Outlet_Identifier_OUT019           1.865273e+14\n",
       "Outlet_Identifier_OUT027          -1.992184e+14\n",
       "Outlet_Identifier_OUT035          -2.272559e+13\n",
       "Outlet_Identifier_OUT045          -5.529755e+13\n",
       "Outlet_Identifier_OUT046          -3.198056e+13\n",
       "Outlet_Identifier_OUT049           1.144007e+15\n",
       "Outlet_Size_High                  -5.411700e+13\n",
       "Outlet_Size_Medium                -2.279617e+14\n",
       "Outlet_Size_Small                  9.154538e+14\n",
       "Outlet_Location_Type_Tier 1       -8.995778e+14\n",
       "Outlet_Location_Type_Tier 2       -7.948309e+14\n",
       "Outlet_Location_Type_Tier 3       -1.094731e+14\n",
       "Outlet_Type_Grocery Store         -4.159321e+14\n",
       "Outlet_Type_Supermarket Type1     -1.992526e+12\n",
       "Outlet_Type_Supermarket Type2      1.856459e+14\n",
       "Outlet_Type_Supermarket Type3      3.231243e+14\n",
       "dtype: float64"
      ]
     },
     "execution_count": 58,
     "metadata": {},
     "output_type": "execute_result"
    }
   ],
   "source": [
    "Series(lreg.coef_, index=X.columns)"
   ]
  },
  {
   "cell_type": "code",
   "execution_count": 59,
   "metadata": {
    "colab": {},
    "colab_type": "code",
    "id": "n3-HEIC1ImkA",
    "outputId": "e39bbc4a-3192-493f-eb3d-9080cd691545"
   },
   "outputs": [
    {
     "data": {
      "text/plain": [
       "<matplotlib.axes._subplots.AxesSubplot at 0x247cda8a588>"
      ]
     },
     "execution_count": 59,
     "metadata": {},
     "output_type": "execute_result"
    },
    {
     "data": {
      "image/png": "[encoded data removed]",
      "text/plain": [
       "<Figure size 720x720 with 1 Axes>"
      ]
     },
     "metadata": {
      "needs_background": "light"
     },
     "output_type": "display_data"
    }
   ],
   "source": [
    "# checking the magnitude of coefficients\n",
    "plt.figure(figsize= (10,10))\n",
    "predictors = X.columns\n",
    "coef = Series(lreg.coef_, predictors).sort_values()\n",
    "coef.plot(kind='bar', title='Modal Coefficients')"
   ]
  },
  {
   "cell_type": "markdown",
   "metadata": {},
   "source": [
    "### 릿지 규제"
   ]
  },
  {
   "cell_type": "code",
   "execution_count": 60,
   "metadata": {
    "colab": {},
    "colab_type": "code",
    "id": "DHpkVP4jImkC",
    "outputId": "614e9cfe-8420-4a28-b6df-aaa84a7a15b0"
   },
   "outputs": [
    {
     "data": {
      "text/plain": [
       "(1152.9528012255219, 0.5491731608147644)"
      ]
     },
     "execution_count": 60,
     "metadata": {},
     "output_type": "execute_result"
    }
   ],
   "source": [
    "from sklearn.linear_model import Ridge\n",
    "ridgeReg = Ridge(alpha=0.05, normalize=True) \n",
    "# normalize: the regressors X will be normalized before regression by subtracting \n",
    "# the mean and dividing by the l2-norm\n",
    "ridgeReg.fit(x_train,y_train)\n",
    "pred = ridgeReg.predict(x_test)\n",
    "mse = np.mean((pred_test - y_test)**2)\n",
    "mse**0.5, ridgeReg.score(x_test, y_test)"
   ]
  },
  {
   "cell_type": "code",
   "execution_count": 61,
   "metadata": {
    "colab": {},
    "colab_type": "code",
    "id": "jsFv6S59ImkG",
    "outputId": "2a35fc3f-4af2-479e-bacb-a960fb7e7fd9"
   },
   "outputs": [
    {
     "data": {
      "text/plain": [
       "<matplotlib.axes._subplots.AxesSubplot at 0x247cdb5ff88>"
      ]
     },
     "execution_count": 61,
     "metadata": {},
     "output_type": "execute_result"
    },
    {
     "data": {
      "image/png": "[encoded data removed]",
      "text/plain": [
       "<Figure size 720x720 with 1 Axes>"
      ]
     },
     "metadata": {
      "needs_background": "light"
     },
     "output_type": "display_data"
    }
   ],
   "source": [
    "plt.figure(figsize= (10,10))\n",
    "predictors = X.columns\n",
    "coef = Series(ridgeReg.coef_, predictors).sort_values()\n",
    "coef.plot(kind='bar', title='Ridge Modal Coefficients')"
   ]
  },
  {
   "cell_type": "markdown",
   "metadata": {},
   "source": [
    "### 위의 결과 -> 큰 계수의 값이 줄어듬 확인."
   ]
  },
  {
   "cell_type": "code",
   "execution_count": 62,
   "metadata": {
    "colab": {},
    "colab_type": "code",
    "id": "Se_GWh5yImkN",
    "outputId": "9f86cc21-b99a-46a5-9f05-dccd5c540344"
   },
   "outputs": [
    {
     "name": "stdout",
     "output_type": "stream",
     "text": [
      "a= 0 R square =  0.5486534404110446\n",
      "a= 0.001 R square =  0.5486826382589223\n",
      "a= 0.01 R square =  0.5489082444202531\n",
      "a= 0.05 R square =  0.5491731608147644\n",
      "a= 0.5 R square =  0.5137188639777166\n",
      "a= 1 R square =  0.45920700914344165\n",
      "a= 5 R square =  0.23617547945624906\n"
     ]
    }
   ],
   "source": [
    "alpha = [0, 0.001, 0.01, 0.05, 0.5, 1, 5]\n",
    "for a in alpha:\n",
    "    ridgeReg = Ridge(alpha=a, normalize=True)\n",
    "    ridgeReg.fit(x_train,y_train)\n",
    "    print(\"a=\", a, \"R square = \", ridgeReg.score(x_test, y_test))"
   ]
  },
  {
   "cell_type": "markdown",
   "metadata": {},
   "source": [
    "## 라쏘 규제"
   ]
  },
  {
   "cell_type": "code",
   "execution_count": 63,
   "metadata": {
    "colab": {},
    "colab_type": "code",
    "id": "Uq-cnVuJImkQ",
    "outputId": "3c509ad7-1e2a-4902-8e46-11e8e2f817f2"
   },
   "outputs": [
    {
     "name": "stdout",
     "output_type": "stream",
     "text": [
      "0.5493981055951234\n"
     ]
    }
   ],
   "source": [
    "from sklearn.linear_model import Lasso\n",
    "lassoReg = Lasso(alpha=0.05, normalize=True)\n",
    "lassoReg.fit(x_train,y_train)\n",
    "print(lassoReg.score(x_test,y_test))"
   ]
  },
  {
   "cell_type": "code",
   "execution_count": 65,
   "metadata": {
    "colab": {},
    "colab_type": "code",
    "id": "FQYJihf-ImkS",
    "outputId": "a262925e-e582-4e43-a928-90c2ea8f6431"
   },
   "outputs": [
    {
     "data": {
      "text/plain": [
       "<matplotlib.axes._subplots.AxesSubplot at 0x247cdd51f88>"
      ]
     },
     "execution_count": 65,
     "metadata": {},
     "output_type": "execute_result"
    },
    {
     "data": {
      "image/png": "[encoded data removed]",
      "text/plain": [
       "<Figure size 720x720 with 1 Axes>"
      ]
     },
     "metadata": {
      "needs_background": "light"
     },
     "output_type": "display_data"
    }
   ],
   "source": [
    "plt.figure(figsize= (10,10))\n",
    "predictors = X.columns\n",
    "coef = Series(lassoReg.coef_, predictors).sort_values()\n",
    "coef.plot(kind='bar', title='Lasso Modal Coefficients')"
   ]
  },
  {
   "cell_type": "markdown",
   "metadata": {
    "colab": {},
    "colab_type": "code",
    "id": "Ao1SGYEHImkV"
   },
   "source": [
    "#### 결과 -> 중요도가 적은 계수의 크기가 줄어든 것 확인, 모델의 성능은 비슷"
   ]
  },
  {
   "cell_type": "code",
   "execution_count": null,
   "metadata": {},
   "outputs": [],
   "source": []
  }
 ],
 "metadata": {
  "colab": {
   "collapsed_sections": [],
   "name": "gg_43_선형모델비교.ipynb",
   "provenance": [],
   "version": "0.3.2"
  },
  "kernelspec": {
   "display_name": "Python 3",
   "language": "python",
   "name": "python3"
  },
  "language_info": {
   "codemirror_mode": {
    "name": "ipython",
    "version": 3
   },
   "file_extension": ".py",
   "mimetype": "text/x-python",
   "name": "python",
   "nbconvert_exporter": "python",
   "pygments_lexer": "ipython3",
   "version": "3.7.6"
  }
 },
 "nbformat": 4,
 "nbformat_minor": 1
}
